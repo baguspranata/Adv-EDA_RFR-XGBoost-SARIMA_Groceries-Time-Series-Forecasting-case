{
 "cells": [
  {
   "cell_type": "markdown",
   "metadata": {
    "id": "ZcMk2xAIAPqF"
   },
   "source": [
    "# **Libraries**\n",
    "\n",
    "\n",
    "\n"
   ]
  },
  {
   "cell_type": "code",
   "execution_count": null,
   "metadata": {
    "colab": {
     "base_uri": "https://localhost:8080/",
     "height": 17
    },
    "id": "777LThOb_yQf",
    "outputId": "08aa8a2d-efa5-44bd-d508-a5595c388285"
   },
   "outputs": [],
   "source": [
    "# Data manipulation\n",
    "# ==============================================================================\n",
    "import numpy as np\n",
    "import pandas as pd\n",
    "import statsmodels.api as sm\n",
    "\n",
    "# Plots\n",
    "# ==============================================================================\n",
    "import matplotlib.pyplot as plt\n",
    "import seaborn as sns\n",
    "plt.style.use('fivethirtyeight')\n",
    "plt.rcParams['lines.linewidth'] = 1.5\n",
    "plt.rcParams['font.size'] = 10\n",
    "import plotly.express as px\n",
    "import plotly.io as pio\n",
    "import plotly.express as px\n",
    "import plotly.graph_objects as go\n",
    "import plotly.figure_factory as ff\n",
    "from plotly.offline import download_plotlyjs, init_notebook_mode, plot, iplot\n",
    "from plotly.subplots import make_subplots\n",
    "init_notebook_mode(connected=False)\n",
    "pio.renderers.default = 'colab'\n",
    "pio.templates.default = 'ggplot2'\n",
    "\n",
    "# Data Preprocessing\n",
    "# ==============================================================================\n",
    "from sklearn.preprocessing import StandardScaler, MinMaxScaler, LabelEncoder"
   ]
  },
  {
   "cell_type": "markdown",
   "metadata": {
    "id": "uWPGN8UMBsEk"
   },
   "source": [
    "# Background & Problem Statement"
   ]
  },
  {
   "cell_type": "markdown",
   "metadata": {
    "id": "yA85yg3aBwyG"
   },
   "source": [
    "ABC is a grocery retailer that needs to improve its sales forecasting method. They want to use machine learning to **consistently meet customer demands** by **maintaining optimal inventory levels** of the products at the right time."
   ]
  },
  {
   "cell_type": "markdown",
   "metadata": {
    "id": "_cKdEyzGB7Q-"
   },
   "source": []
  },
  {
   "cell_type": "markdown",
   "metadata": {
    "id": "tAmxEj8rB4kj"
   },
   "source": [
    "# Sales Dataset Scope"
   ]
  },
  {
   "cell_type": "markdown",
   "metadata": {
    "id": "8UO5Dk7aB9lY"
   },
   "source": [
    "- 33 distinct product types\n",
    "- 54 stores\n",
    "- Time Interval: 1 Jan 2013 to 15 Aug 2017"
   ]
  },
  {
   "cell_type": "markdown",
   "metadata": {
    "id": "-viGmCFrCC97"
   },
   "source": [
    "# Objective"
   ]
  },
  {
   "cell_type": "markdown",
   "metadata": {
    "id": "fYwqI4vaCGC-"
   },
   "source": [
    "Predict sales: for each product type in each store, between 31 Jul 2017 and 15 Aug 2017 (16-day period)."
   ]
  },
  {
   "cell_type": "markdown",
   "metadata": {
    "id": "XikS4og1CK1h"
   },
   "source": [
    "# 1. Data Loading"
   ]
  },
  {
   "cell_type": "code",
   "execution_count": null,
   "metadata": {
    "id": "Z7XaW7exBWF1"
   },
   "outputs": [],
   "source": [
    "prod_df = pd.read_csv('Products_Information.csv', index_col = 'id')"
   ]
  },
  {
   "cell_type": "code",
   "execution_count": null,
   "metadata": {
    "id": "djAe1JjsehiJ"
   },
   "outputs": [],
   "source": [
    "# from google.colab import drive\n",
    "# drive.mount('/content/drive')"
   ]
  },
  {
   "cell_type": "code",
   "execution_count": null,
   "metadata": {
    "colab": {
     "base_uri": "https://localhost:8080/",
     "height": 238
    },
    "id": "Mdgmfk8JCWCe",
    "outputId": "0c60718c-b8fc-4221-e433-c8c10bebf061"
   },
   "outputs": [],
   "source": [
    "prod_df.head()"
   ]
  },
  {
   "cell_type": "code",
   "execution_count": null,
   "metadata": {
    "colab": {
     "base_uri": "https://localhost:8080/"
    },
    "id": "ujfzelj2DZaY",
    "outputId": "f352fcfe-62d2-4591-c44b-d052849636ce"
   },
   "outputs": [],
   "source": [
    "# Change 'date' column type to datetime\n",
    "prod_df['date'] = pd.to_datetime(prod_df['date'])\n",
    "prod_df.info()"
   ]
  },
  {
   "cell_type": "code",
   "execution_count": null,
   "metadata": {
    "colab": {
     "base_uri": "https://localhost:8080/"
    },
    "id": "9w8fMmzphc6E",
    "outputId": "504a551c-fb82-4135-fe9b-ce7abd5b4235"
   },
   "outputs": [],
   "source": [
    "print(prod_df['date'].min())"
   ]
  },
  {
   "cell_type": "code",
   "execution_count": null,
   "metadata": {
    "colab": {
     "base_uri": "https://localhost:8080/"
    },
    "id": "U0FQnJ2eNpxi",
    "outputId": "758f9700-dfa9-4f26-9bef-01af228f0a79"
   },
   "outputs": [],
   "source": [
    "# How many product types & stores?\n",
    "print('There are', prod_df['product_type'].nunique(), 'types of products and', prod_df['store_nbr'].nunique(), 'stores') # 33 products\n",
    "print() # 54 stores\n",
    "\n",
    "# How many data rows do each product have? 90,936\n",
    "print('Number of sales records in each product is:\\n', prod_df.groupby(['product_type']).count())\n",
    "\n",
    "# How many data rows do each product and each store have? 1,684\n",
    "print('\\nNumber of sales records in combination of store and product is:\\n', prod_df.groupby(['product_type', 'store_nbr']).count())\n",
    "\n",
    "# How many dates?\n",
    "print('\\nThere are', prod_df['date'].nunique(), 'dates. Starting from', prod_df['date'].min(), 'to', prod_df['date'].max())"
   ]
  },
  {
   "cell_type": "markdown",
   "metadata": {
    "id": "Dml-Y6qzDq1Y"
   },
   "source": [
    "# Checking for Missing Values"
   ]
  },
  {
   "cell_type": "code",
   "execution_count": null,
   "metadata": {
    "colab": {
     "base_uri": "https://localhost:8080/"
    },
    "id": "DI4U0sP1DhiV",
    "outputId": "39ae87d0-6ff6-4426-80c6-73f9e1887894"
   },
   "outputs": [],
   "source": [
    "prod_df.isna().sum()\n",
    "\n",
    "# No missing values, we are good to proceed"
   ]
  },
  {
   "cell_type": "markdown",
   "metadata": {
    "id": "5vTdxkr2D0Qp"
   },
   "source": [
    "# 2. Exploratory Data Analysis"
   ]
  },
  {
   "cell_type": "markdown",
   "metadata": {
    "id": "a-fcwTYXEcw9"
   },
   "source": [
    "## 2.1 Splitting Train & Test Sets"
   ]
  },
  {
   "cell_type": "code",
   "execution_count": null,
   "metadata": {
    "id": "zEWgaG-NNNlK"
   },
   "outputs": [],
   "source": [
    "#Splitting for EDA purposes\n",
    "cutoff_date = pd.to_datetime('2017-07-31')\n",
    "test_df = prod_df[prod_df['date'] >= cutoff_date]\n",
    "train_df = prod_df[prod_df['date'] < cutoff_date]"
   ]
  },
  {
   "cell_type": "code",
   "execution_count": null,
   "metadata": {
    "colab": {
     "base_uri": "https://localhost:8080/"
    },
    "id": "LFoSx0JPeVLv",
    "outputId": "bd6bc6a6-b866-42f9-c5ce-448afcad66f3"
   },
   "outputs": [],
   "source": [
    "print('Number of training rows:', train_df.index.nunique())\n",
    "print('Number of test rows:', test_df.index.nunique())"
   ]
  },
  {
   "cell_type": "code",
   "execution_count": null,
   "metadata": {
    "colab": {
     "base_uri": "https://localhost:8080/",
     "height": 300
    },
    "id": "V0hk5dQcNUhh",
    "outputId": "2d884662-e3b3-49ab-bbad-82afbc055027"
   },
   "outputs": [],
   "source": [
    "train_df.describe()"
   ]
  },
  {
   "cell_type": "code",
   "execution_count": null,
   "metadata": {
    "colab": {
     "base_uri": "https://localhost:8080/",
     "height": 238
    },
    "id": "y3jWVYsZNkPO",
    "outputId": "31683f36-fec3-431d-fd6b-854271f9f20f"
   },
   "outputs": [],
   "source": [
    "train_df.head()"
   ]
  },
  {
   "cell_type": "code",
   "execution_count": null,
   "metadata": {
    "colab": {
     "base_uri": "https://localhost:8080/"
    },
    "id": "y8snI0dsoQjd",
    "outputId": "de8d6301-b357-4f06-cadf-d3210a4c0d1e"
   },
   "outputs": [],
   "source": [
    "train_df.info()"
   ]
  },
  {
   "cell_type": "code",
   "execution_count": null,
   "metadata": {
    "colab": {
     "base_uri": "https://localhost:8080/",
     "height": 238
    },
    "id": "xbXr-V11Nqj8",
    "outputId": "a3e4f566-dc6f-4351-8cd6-acce02b421fd"
   },
   "outputs": [],
   "source": [
    "test_df.head()"
   ]
  },
  {
   "cell_type": "markdown",
   "metadata": {
    "id": "JpNw-bwlE-j_"
   },
   "source": [
    "## 2.3 Target Variable: Sales"
   ]
  },
  {
   "cell_type": "markdown",
   "metadata": {
    "id": "uL01xFJcF76k"
   },
   "source": [
    "### 2.3.1 Normality Checking"
   ]
  },
  {
   "cell_type": "code",
   "execution_count": null,
   "metadata": {
    "colab": {
     "base_uri": "https://localhost:8080/",
     "height": 563
    },
    "id": "dVkI0zTOUMgy",
    "outputId": "b6f51b93-9328-4a48-8ae2-eb3e6b7cbab3"
   },
   "outputs": [],
   "source": [
    "# Checking normality using box plots: pay attention to symmetry & outliers\n",
    "plt.figure(figsize=(40,10))\n",
    "plt.ylim(0,7000)\n",
    "dep_boxplot = sns.boxplot(x=\"product_type\", y=\"sales\", data=train_df)"
   ]
  },
  {
   "cell_type": "markdown",
   "metadata": {
    "id": "X3Swu59tpr0k"
   },
   "source": [
    "Each product's sales differs in terms of range & outlier presence. A lot of them don't have symmetric boxplots and have a lot of outliers, which means their distributions are not normal.\n",
    "\n",
    "We might need to do log transformations?"
   ]
  },
  {
   "cell_type": "markdown",
   "metadata": {
    "id": "9-Z0ptHUFM7p"
   },
   "source": [
    "### 2.3.2 Total Sales"
   ]
  },
  {
   "cell_type": "code",
   "execution_count": null,
   "metadata": {
    "colab": {
     "base_uri": "https://localhost:8080/",
     "height": 517
    },
    "id": "omzIJcGSU3hz",
    "outputId": "3ae68cb3-e2f3-4401-fede-494cf30c8d9b"
   },
   "outputs": [],
   "source": [
    "# Monthly Average Sales\n",
    "\n",
    "# Set month\n",
    "train_time = train_df.set_index('date').resample('M').sales.mean()\n",
    "train_time = pd.DataFrame(train_time)\n",
    "train_time['year'] = train_time.index.year\n",
    "\n",
    "\n",
    "fig = px.line(train_time, x=train_time.index, y='sales', color='year', title='Monthly Average Sales')\n",
    "fig.update_layout(width=900, height=500)"
   ]
  },
  {
   "cell_type": "code",
   "execution_count": null,
   "metadata": {
    "colab": {
     "base_uri": "https://localhost:8080/",
     "height": 517
    },
    "id": "DJqVki1wrH65",
    "outputId": "f86d2940-98d0-4ed0-bb4c-1e168f7e9fb0"
   },
   "outputs": [],
   "source": [
    "# Annual Average Sales\n",
    "train_time_year = train_df.set_index('date').resample('Y').sales.mean()\n",
    "train_time_year = pd.DataFrame(train_time_year)\n",
    "train_time_year['year'] = train_time_year.index.year\n",
    "\n",
    "fig = px.line(train_time_year, x=train_time_year.index, y='sales', title = 'Annual Average Sales')\n",
    "fig.update_layout(width=900, height=500)"
   ]
  },
  {
   "cell_type": "code",
   "execution_count": null,
   "metadata": {
    "id": "25nidSqIrPzz"
   },
   "outputs": [],
   "source": [
    "# Day of Week Average Sales\n",
    "# Trying to see if day of week has impact on sales\n",
    "\n",
    "train_day = train_df.copy()\n",
    "train_day['year'] = train_df.date.dt.year #add year column\n",
    "train_day['day of week'] = train_df.date.dt.dayofweek+1 #add day of week column\n",
    "\n",
    "day_gb = train_day.groupby(['year', 'day of week'])['sales'].mean().reset_index()"
   ]
  },
  {
   "cell_type": "code",
   "execution_count": null,
   "metadata": {
    "colab": {
     "base_uri": "https://localhost:8080/",
     "height": 542
    },
    "id": "p1TvuNX4qRbp",
    "outputId": "fdcae9be-2fb3-46e1-d87d-ad42feac1b1e"
   },
   "outputs": [],
   "source": [
    "px.line(day_gb, x='day of week', y='sales', color='year', title = 'Day of Week Average Sales')\n",
    "\n",
    "# Sales is highest on the weekends (day of week > 5)"
   ]
  },
  {
   "cell_type": "code",
   "execution_count": null,
   "metadata": {
    "colab": {
     "base_uri": "https://localhost:8080/",
     "height": 717
    },
    "id": "iqGvrlFmuq8i",
    "outputId": "53450d3e-4743-4996-9b52-a38826f62abe"
   },
   "outputs": [],
   "source": [
    "# Open Days: Is there any day where the stores close?\n",
    "train_df_time = train_df[['date', 'sales']].groupby('date').mean()\n",
    "train_df_time['open'] = 1\n",
    "full_range = pd.date_range(start=train_df_time.index.min(), end=train_df_time.index.max(), freq='D')\n",
    "full_df = pd.DataFrame(index=full_range)\n",
    "\n",
    "full_df = full_df.merge(train_df_time['open'], left_index=True, right_index=True, how='left').fillna(0)\n",
    "\n",
    "fig = px.line(full_df, x=full_df.index, y='open', title='Open Days')\n",
    "fig.update_layout(width=700, height=700)"
   ]
  },
  {
   "cell_type": "code",
   "execution_count": null,
   "metadata": {
    "colab": {
     "base_uri": "https://localhost:8080/"
    },
    "id": "jwmQIkr4tEIQ",
    "outputId": "1bb80c3b-1f58-42fd-a26a-69ed6dec5981"
   },
   "outputs": [],
   "source": [
    "pd.date_range(start=train_df_time.index.min(), end=train_df_time.index.max(), freq='D').difference(train_df_time.index)"
   ]
  },
  {
   "cell_type": "code",
   "execution_count": null,
   "metadata": {
    "colab": {
     "base_uri": "https://localhost:8080/"
    },
    "id": "doOTg210lfZE",
    "outputId": "ad28ee34-f766-4e32-8807-45f642a2b6a7"
   },
   "outputs": [],
   "source": [
    "print('The store holidays are on', pd.date_range(start=train_df_time.index.min(), end=train_df_time.index.max(), freq='D').difference(train_df_time.index).values)"
   ]
  },
  {
   "cell_type": "code",
   "execution_count": null,
   "metadata": {
    "colab": {
     "base_uri": "https://localhost:8080/",
     "height": 1000
    },
    "id": "KVrEGTov0yo_",
    "outputId": "76304c2d-b60d-4f8b-90f1-e117c9b74214"
   },
   "outputs": [],
   "source": [
    "#checking more holidays (where sales were 0 throughout the years on certain date)\n",
    "\n",
    "train_df_time = train_df[~((train_df['date']<'2017-04-20') & (train_df['store_nbr']==52))] #excluding store_nbr 52, which just opened on 20 Apr 2017\n",
    "train_df_time['m-d'] = train_df_time['date'].dt.strftime('%m-%d') #\n",
    "train_df_time = train_df_time.groupby(['m-d', 'store_nbr'])['sales'].sum().reset_index()\n",
    "\n",
    "train_df_time[train_df_time['sales']==0]"
   ]
  },
  {
   "cell_type": "code",
   "execution_count": null,
   "metadata": {
    "id": "AnkdfQ8LAVu9"
   },
   "outputs": [],
   "source": [
    "#checking store 25 & 36 sales in January 1st\n",
    "train_df_str2536 = train_df[train_df['store_nbr'].isin([25,36])]\n",
    "train_df_str2536 = train_df_str2536[(train_df_str2536['date'].dt.month==1) & (train_df_str2536['date'].dt.day==1)].copy()\n",
    "\n",
    "result = train_df_str2536.groupby(['store_nbr','date'])['sales'].sum().reset_index()"
   ]
  },
  {
   "cell_type": "code",
   "execution_count": null,
   "metadata": {
    "colab": {
     "base_uri": "https://localhost:8080/",
     "height": 363
    },
    "id": "mfijYOfJIe50",
    "outputId": "ccab9e82-b0ec-47ee-a6ef-9fc432d97f05"
   },
   "outputs": [],
   "source": [
    "train_df_str2536.groupby(['store_nbr','date'])['sales'].sum().reset_index()"
   ]
  },
  {
   "cell_type": "markdown",
   "metadata": {
    "id": "32Ah47EUrxNZ"
   },
   "source": [
    "## 2.4 Independent Variables"
   ]
  },
  {
   "cell_type": "markdown",
   "metadata": {
    "id": "TfUpWcEkxB65"
   },
   "source": [
    "There are 4 independent variables provided in the dataset: special_offer, date, store_nbr, and product_type.\n",
    "\n",
    "store_nbr & product_type are categorical, as well as day of week. We only need to check normality for special_offer."
   ]
  },
  {
   "cell_type": "markdown",
   "metadata": {
    "id": "zLZgQ1BSrxNa"
   },
   "source": [
    "### 2.4.1 special_offer"
   ]
  },
  {
   "cell_type": "code",
   "execution_count": null,
   "metadata": {
    "colab": {
     "base_uri": "https://localhost:8080/",
     "height": 484
    },
    "id": "0VjhLBrJmQKy",
    "outputId": "9a918116-2526-4207-e90a-a0d9331cc547"
   },
   "outputs": [],
   "source": [
    "# Draw box plot for special_offer only\n",
    "plt.figure(figsize=(5,5))\n",
    "train_df.boxplot(['special_offer'])\n",
    "plt.title('Special Offer Normality Check')\n",
    "plt.show()\n",
    "# A lot of outliers"
   ]
  },
  {
   "cell_type": "code",
   "execution_count": null,
   "metadata": {
    "colab": {
     "base_uri": "https://localhost:8080/",
     "height": 517
    },
    "id": "GIVKtPZAT-EW",
    "outputId": "e97774c2-4804-454c-c0c9-27d4bb3e3f49"
   },
   "outputs": [],
   "source": [
    "#plotting special offer trend\n",
    "special_offer = train_df.set_index('date').resample('M')['special_offer', 'sales'].mean().reset_index() #grouping by month\n",
    "fig = px.line(special_offer, x='date', y='special_offer', title='Special Offer Trend')\n",
    "fig.update_layout(width=2000, height=500)"
   ]
  },
  {
   "cell_type": "code",
   "execution_count": null,
   "metadata": {
    "colab": {
     "base_uri": "https://localhost:8080/",
     "height": 517
    },
    "id": "T5oYYkrYUKkf",
    "outputId": "09bb821f-a659-4cf5-8e90-73daef7c0577"
   },
   "outputs": [],
   "source": [
    "#plotting special offer and sales\n",
    "special_offer = train_df.set_index('date').resample('D')['special_offer', 'sales'].mean().reset_index() #grouping by day\n",
    "special_offer = special_offer[special_offer['date'] >= pd.to_datetime('2014-05-31')] #date when special offers were initiated\n",
    "\n",
    "fig = px.scatter(special_offer, x='special_offer', y='sales', trendline='ols', color_discrete_sequence=['dodgerblue'], trendline_color_override='red', title='Special Offer vs Sales Trend')\n",
    "fig.update_layout(width=2000, height=500)"
   ]
  },
  {
   "cell_type": "markdown",
   "metadata": {
    "id": "1_Qe1j1mAG3Z"
   },
   "source": [
    "There is some positive correlation between special_offer and sales. We need to include that in our feature engineering & modeling stage later."
   ]
  },
  {
   "cell_type": "code",
   "execution_count": null,
   "metadata": {
    "id": "B96SzMET98Bv"
   },
   "outputs": [],
   "source": [
    "#special offers performance by stores\n",
    "special_offer_stores = train_df.groupby(['store_nbr', 'date'])[['sales', 'special_offer']].mean().reset_index()"
   ]
  },
  {
   "cell_type": "code",
   "execution_count": null,
   "metadata": {
    "colab": {
     "base_uri": "https://localhost:8080/",
     "height": 1000
    },
    "id": "eYV_19D3DxvZ",
    "outputId": "1a9961fa-2c90-429a-e26e-8cd298a557b9"
   },
   "outputs": [],
   "source": [
    "fig = make_subplots(rows=18, cols=3, subplot_titles=[f'Store {store}' for store in special_offer_stores.store_nbr.unique()])\n",
    "n=1\n",
    "for row in range(1, 19):\n",
    "    for col in range(1, 4):\n",
    "        if n > len(special_offer_stores.store_nbr.unique()):\n",
    "            break\n",
    "        df = special_offer_stores[special_offer_stores['store_nbr'] == n]\n",
    "        n += 1\n",
    "\n",
    "        # Generate scatter plot with trendline for each store\n",
    "        px_fig = px.scatter(df, x='special_offer', y='sales', trendline='ols',\n",
    "                            color_discrete_sequence=['dodgerblue'], trendline_color_override='red')\n",
    "\n",
    "        for trace in px_fig['data']:\n",
    "            fig.add_trace(trace, row=row, col=col)\n",
    "\n",
    "fig.update_layout(height=4000, width=2000, title_text = 'Special Offers Trends by Stores')\n",
    "fig.update_xaxes(title_text='special_offer')\n",
    "fig.update_yaxes(title_text='sales')\n",
    "\n",
    "fig.show()"
   ]
  },
  {
   "cell_type": "code",
   "execution_count": null,
   "metadata": {
    "id": "AsmvWAmyCGWP"
   },
   "outputs": [],
   "source": [
    "#special offers performance by products\n",
    "special_offer_products = train_df.groupby(['product_type', 'date'])[['sales', 'special_offer']].mean().reset_index()"
   ]
  },
  {
   "cell_type": "code",
   "execution_count": null,
   "metadata": {
    "colab": {
     "base_uri": "https://localhost:8080/",
     "height": 1000
    },
    "id": "5Ido9kOAI6Cq",
    "outputId": "58fc58a8-9977-4e0f-fec8-08db3a1ae135"
   },
   "outputs": [],
   "source": [
    "unique_product_types = special_offer_products.product_type.unique()\n",
    "fig = make_subplots(rows=11, cols=3, subplot_titles=[f'{product}' for product in special_offer_products.product_type.unique()])\n",
    "n=0\n",
    "for row in range(1, 12):\n",
    "    for col in range(1, 4):\n",
    "        if n >= len(unique_product_types):  # Ensure n does not exceed the number of unique product types\n",
    "            break\n",
    "        product_type = unique_product_types[n]\n",
    "        df = special_offer_products[special_offer_products['product_type'] == product_type]\n",
    "        n += 1\n",
    "\n",
    "        # Generate scatter plot with trendline for each store\n",
    "        px_fig = px.scatter(df, x='special_offer', y='sales', trendline='ols',\n",
    "                            color_discrete_sequence=['dodgerblue'], trendline_color_override='red')\n",
    "\n",
    "        for trace in px_fig['data']:\n",
    "            fig.add_trace(trace, row=row, col=col)\n",
    "\n",
    "fig.update_layout(height=4000, width=2000, title_text = 'Special Offers Trends by Products')\n",
    "fig.update_xaxes(title_text='special_offer')\n",
    "fig.update_yaxes(title_text='sales')\n",
    "\n",
    "fig.show()"
   ]
  },
  {
   "cell_type": "markdown",
   "metadata": {
    "id": "p3aoYrK-rxNb"
   },
   "source": [
    "### 2.3.3 Store Performance"
   ]
  },
  {
   "cell_type": "code",
   "execution_count": null,
   "metadata": {
    "colab": {
     "base_uri": "https://localhost:8080/",
     "height": 1000
    },
    "id": "1owtgURoUNw4",
    "outputId": "0b595a06-c049-48b6-d3c3-c304bf8c6d8d"
   },
   "outputs": [],
   "source": [
    "#store's daily sales performance\n",
    "train_df['store_nbr'] = train_df['store_nbr'].astype('category')\n",
    "train_store = train_df.groupby(['date', 'store_nbr']).sales.mean().reset_index()\n",
    "\n",
    "\n",
    "fig = px.line(train_store, x='date', y='sales', color='store_nbr', title='Daily Sales Average by Store Number')\n",
    "fig.update_layout(width=1700, height=1500)"
   ]
  },
  {
   "cell_type": "code",
   "execution_count": null,
   "metadata": {
    "colab": {
     "base_uri": "https://localhost:8080/",
     "height": 542
    },
    "id": "9MZW0Q8HUNmO",
    "outputId": "a2803d6d-5185-4424-c523-c4e245fcc5ee"
   },
   "outputs": [],
   "source": [
    "#boxplot\n",
    "px.box(train_store, x='store_nbr', y='sales', color='store_nbr', title='Average Sales by Store Number')"
   ]
  },
  {
   "cell_type": "code",
   "execution_count": null,
   "metadata": {
    "colab": {
     "base_uri": "https://localhost:8080/",
     "height": 1000
    },
    "id": "7MIlcwV1-fET",
    "outputId": "17c8f912-e365-490b-9dd2-dcaefe733a7f"
   },
   "outputs": [],
   "source": [
    "store_day = train_df.copy()\n",
    "store_day['year'] = store_day.date.dt.year\n",
    "store_day['year'] = store_day['year'] .astype(int)\n",
    "store_day = store_day.groupby(['store_nbr','date','year'])['sales'].mean().reset_index()\n",
    "\n",
    "fig = make_subplots(rows=18, cols=3, subplot_titles=[f'Store {store}' for store in store_day.store_nbr.unique()])\n",
    "n=1\n",
    "for row in range (1,19):\n",
    "  for col in range(1,4):\n",
    "    df = store_day[store_day['store_nbr'] == n]\n",
    "    n += 1\n",
    "\n",
    "    px_fig = px.line(df, x='date', y='sales', color='year')\n",
    "\n",
    "    for trace in px_fig['data']:\n",
    "      fig.add_trace(trace, row=row, col=col)\n",
    "\n",
    "fig.update_layout(height=4000, width=1700, title_text = 'Daily Sales Graph by Store', showlegend=False)\n",
    "fig.update_xaxes(title_text='year')\n",
    "fig.update_yaxes(title_text='sales')\n",
    "\n",
    "fig.show()\n"
   ]
  },
  {
   "cell_type": "code",
   "execution_count": null,
   "metadata": {
    "id": "FIcoXgByVS2T"
   },
   "outputs": [],
   "source": [
    "#store's sales ranking\n",
    "train_store = train_df.copy()\n",
    "train_store['year'] = train_df['date'].dt.year\n",
    "\n",
    "train_agg = train_store.groupby(['store_nbr', 'year']).sum(numeric_only=True).reset_index()\n",
    "total_sales_per_store = train_agg.groupby('store_nbr')['sales'].sum()\n",
    "sorted_stores = total_sales_per_store.sort_values(ascending=False).index\n",
    "\n",
    "train_agg['store_nbr'] = train_agg['store_nbr'].astype(str)\n",
    "train_agg['store_nbr'] = pd.Categorical(train_agg['store_nbr'], categories=sorted_stores.astype(str), ordered=True)"
   ]
  },
  {
   "cell_type": "code",
   "execution_count": null,
   "metadata": {
    "colab": {
     "base_uri": "https://localhost:8080/",
     "height": 1000
    },
    "id": "KnUQUpamDaTN",
    "outputId": "8bac4f5e-ecec-4bf6-e965-32c36d7e3231"
   },
   "outputs": [],
   "source": [
    "fig = px.bar(train_agg, x='sales', y='store_nbr', color='year', category_orders={'store_nbr': sorted_stores.astype(str)}, title='Sales Ranking')\n",
    "fig.update_layout(width=1700, height=1500)\n",
    "fig.update_xaxes(title_text='cummulative sales')"
   ]
  },
  {
   "cell_type": "markdown",
   "metadata": {
    "id": "YHFvNrL_rxNb"
   },
   "source": [
    "### 2.3.4 Product Type Preference & Sales Pattern"
   ]
  },
  {
   "cell_type": "code",
   "execution_count": null,
   "metadata": {
    "colab": {
     "base_uri": "https://localhost:8080/",
     "height": 1000
    },
    "id": "1k4vMlGLrxNb",
    "outputId": "5e4008ac-ca5e-45b4-964c-20a67548d148"
   },
   "outputs": [],
   "source": [
    "#product's daily sales performance\n",
    "train_prod = train_df.groupby(['date', 'product_type']).sales.mean().reset_index()\n",
    "\n",
    "fig = px.line(train_prod, x='date', y='sales', color='product_type', title='Sales by Product Type')\n",
    "fig.update_layout(width=1700, height=1500)"
   ]
  },
  {
   "cell_type": "code",
   "execution_count": null,
   "metadata": {
    "colab": {
     "base_uri": "https://localhost:8080/",
     "height": 817
    },
    "id": "1hOI_64nWKAX",
    "outputId": "40995c27-dc1b-4dd0-e832-dbb2b912ee92"
   },
   "outputs": [],
   "source": [
    "#boxplot\n",
    "train_prod = train_df.groupby(['date', 'product_type']).sales.mean().reset_index()\n",
    "\n",
    "fig = px.box(train_prod, x='product_type', y='sales', color='product_type', title='Average Sales by Product Type')\n",
    "fig.update_layout(width=1700, height=800)"
   ]
  },
  {
   "cell_type": "code",
   "execution_count": null,
   "metadata": {
    "colab": {
     "base_uri": "https://localhost:8080/",
     "height": 1000
    },
    "id": "hr68r0hf31_N",
    "outputId": "d337ce6f-9180-45b1-bf7d-ee5e4694d0d7"
   },
   "outputs": [],
   "source": [
    "product_day = train_df.copy()\n",
    "product_day['year'] = product_day.date.dt.year\n",
    "product_day['year'] = product_day['year'] .astype(int)\n",
    "product_day = product_day.groupby(['product_type','date','year'])['sales'].mean().reset_index()\n",
    "\n",
    "prod_type = product_day.product_type.unique()\n",
    "fig = make_subplots(rows=11, cols=3, subplot_titles=[f'{product}' for product in prod_type])\n",
    "n=0\n",
    "for row in range (1,12):\n",
    "  for col in range(1,4):\n",
    "    df = product_day[product_day['product_type'] == prod_type[n]]\n",
    "    n += 1\n",
    "\n",
    "    px_fig = px.line(df, x='date', y='sales', color='year')\n",
    "\n",
    "    for trace in px_fig['data']:\n",
    "      fig.add_trace(trace, row=row, col=col)\n",
    "\n",
    "fig.update_layout(height=4000, width=1700, title_text = 'Daily Sales Graph by Product', showlegend=False)\n",
    "fig.update_xaxes(title_text='year')\n",
    "fig.update_yaxes(title_text='sales')\n",
    "\n",
    "fig.show()\n"
   ]
  },
  {
   "cell_type": "code",
   "execution_count": null,
   "metadata": {
    "colab": {
     "base_uri": "https://localhost:8080/",
     "height": 1000
    },
    "id": "g8HS_tjLWJ8x",
    "outputId": "76f243ab-90ec-4a81-8ce2-076197d6de06"
   },
   "outputs": [],
   "source": [
    "#product's sales ranking\n",
    "train_prod = train_df.copy()\n",
    "train_prod['year'] = train_df['date'].dt.year\n",
    "train_agg = train_store.groupby(['product_type', 'year']).sum(numeric_only=True).reset_index()\n",
    "total_sales_per_product = train_agg.groupby('product_type')['sales'].sum()\n",
    "sorted_product = total_sales_per_product.sort_values(ascending=False).index\n",
    "\n",
    "train_agg['product_type'] = pd.Categorical(train_agg['product_type'], categories=sorted_product, ordered=True)\n",
    "\n",
    "fig = px.bar(train_agg, x='sales', y='product_type', color='year', category_orders={'product_type': sorted_product.astype(str)}, title='Product Ranking')\n",
    "fig.update_layout(width=1700, height=1500)\n",
    "fig.update_xaxes(title_text='cummulative sales')"
   ]
  },
  {
   "cell_type": "code",
   "execution_count": null,
   "metadata": {
    "colab": {
     "base_uri": "https://localhost:8080/",
     "height": 817
    },
    "id": "6i0vPRGnWJ4v",
    "outputId": "cda41a98-df03-4bfb-e6a4-f4201a5c2e2f"
   },
   "outputs": [],
   "source": [
    "#product sold in store\n",
    "heatmap_data = train_df.pivot_table(index='store_nbr', columns='product_type', aggfunc='sum', values='sales')\n",
    "\n",
    "fig = px.imshow(heatmap_data, text_auto=True, title='Product Sold in Stores')\n",
    "fig.update_layout(width=1700, height=800)"
   ]
  },
  {
   "cell_type": "markdown",
   "metadata": {
    "id": "JYNceBKZCpr9"
   },
   "source": [
    "#### Conclusion from EDA:\n",
    "1. Annual sales and day-of-week sales have distinct sales patterns.\n",
    "2. All of the stores closed on Dec 25th. In addition, Jan 1st was assumed to be holiday since there were no sales throughout the years, with the exception of store 25 and 36 (only open in 2014).\n",
    "2. Special offer has positive correlation to sales.\n",
    "3. Some stores, as well as the special_offer promotions, have only started operating in more recent years. This strengthens the argument of using only 2017 data for the modeling stage.\n",
    "4. Different patterns are evident in both stores and product types.\n",
    "5. Some products have zero sales records in the data. Thus, we assume they were not sold in that particular stores."
   ]
  },
  {
   "cell_type": "markdown",
   "metadata": {
    "id": "b0HSHP6QwgVc"
   },
   "source": [
    "# **Data Preprocessing**"
   ]
  },
  {
   "cell_type": "markdown",
   "metadata": {
    "id": "AheAoZJSKNje"
   },
   "source": [
    "1. Delete Products Not Sold in Stores"
   ]
  },
  {
   "cell_type": "code",
   "execution_count": null,
   "metadata": {
    "id": "orWcloekRn9O"
   },
   "outputs": [],
   "source": [
    "prod_info = prod_df.copy()"
   ]
  },
  {
   "cell_type": "code",
   "execution_count": null,
   "metadata": {
    "id": "mrbNb-VYKNH8"
   },
   "outputs": [],
   "source": [
    "#combination of store-product not sold\n",
    "product_not_sold = prod_info.groupby(['store_nbr', 'product_type'])['sales'].sum().reset_index()\n",
    "product_not_sold = product_not_sold[product_not_sold['sales']==0]\n",
    "product_not_sold.set_index(['store_nbr', 'product_type'], inplace=True)"
   ]
  },
  {
   "cell_type": "code",
   "execution_count": null,
   "metadata": {
    "id": "GP5CWzWlMDTL"
   },
   "outputs": [],
   "source": [
    "prod_info.set_index(['store_nbr', 'product_type'], inplace=True)"
   ]
  },
  {
   "cell_type": "code",
   "execution_count": null,
   "metadata": {
    "id": "yP_q9_FiMDPn"
   },
   "outputs": [],
   "source": [
    "not_zero = ~prod_info.index.isin(product_not_sold.index)\n",
    "\n",
    "prod_info_filtered = prod_info[not_zero].reset_index()"
   ]
  },
  {
   "cell_type": "markdown",
   "metadata": {
    "id": "ogQPBcBcKjfi"
   },
   "source": [
    "2. Delete Records of Holiday"
   ]
  },
  {
   "cell_type": "code",
   "execution_count": null,
   "metadata": {
    "id": "Bw92AFV6KqEi"
   },
   "outputs": [],
   "source": [
    "holiday_dates = pd.date_range(start='2013-01-01', end='2023-01-01', freq='YS').union(pd.date_range(start='2013-12-25', end='2022-12-25', freq='Y')).tolist()\n",
    "\n",
    "# Apply the conditions to filter the DataFrame\n",
    "prod_info_filtered = prod_info_filtered[~((prod_info_filtered['date'].isin(holiday_dates)) & (prod_info_filtered['store_nbr'] != 25) & # Store 25 is the only open store on January 1st\n",
    "                        ~((prod_info_filtered['date'].dt.year == 2014) & (prod_info_filtered['store_nbr'] == 36)))]  # On January 1st, Store 36 only open in 2014"
   ]
  },
  {
   "cell_type": "markdown",
   "metadata": {
    "id": "QsOp8JFoKqmf"
   },
   "source": [
    "3. Adding Feature Day of Week"
   ]
  },
  {
   "cell_type": "code",
   "execution_count": null,
   "metadata": {
    "id": "DTtdcMINKytz"
   },
   "outputs": [],
   "source": [
    "prod_info_filtered['day of week'] = prod_info_filtered['date'].dt.dayofweek+1"
   ]
  },
  {
   "cell_type": "markdown",
   "metadata": {
    "id": "hu-MO1jXKwQM"
   },
   "source": [
    "4. Adding Sales Lag, Rolling Means"
   ]
  },
  {
   "cell_type": "code",
   "execution_count": null,
   "metadata": {
    "id": "WeNB3cuOKv7h"
   },
   "outputs": [],
   "source": [
    "prod_info_sorted = prod_info_filtered.sort_values(by=['store_nbr', 'product_type', 'date'])\n",
    "\n",
    "prod_info_sorted['sales_lag21'] = prod_info_sorted.groupby(['store_nbr', 'product_type'])['sales'].shift(21) #lag21\n",
    "prod_info_sorted['sales_lag365'] = prod_info_sorted.groupby(['store_nbr', 'product_type'])['sales'].shift(365) #lag365\n",
    "prod_info_sorted['rolling_means7'] = prod_info_sorted.groupby(['store_nbr', 'product_type'])['sales'].rolling(window=7).mean().shift(21).values #7 days rolling mean shifted 21 days"
   ]
  },
  {
   "cell_type": "markdown",
   "metadata": {
    "id": "ZRtvK13hK41K"
   },
   "source": [
    "5. Encode"
   ]
  },
  {
   "cell_type": "code",
   "execution_count": null,
   "metadata": {
    "colab": {
     "base_uri": "https://localhost:8080/",
     "height": 75
    },
    "id": "5ssm0Ub8K5VR",
    "outputId": "07dde7a1-5d38-47ec-f79a-a73fcdf24419"
   },
   "outputs": [],
   "source": [
    "prod_info_encoded = prod_info_sorted.copy()\n",
    "label_encoder = LabelEncoder()\n",
    "label_encoder.fit(prod_info_encoded['product_type']) #encoder for product_type"
   ]
  },
  {
   "cell_type": "code",
   "execution_count": null,
   "metadata": {
    "id": "hRutLFaPNvW4"
   },
   "outputs": [],
   "source": [
    "prod_info_encoded['encoded_product_type'] = label_encoder.transform(prod_info_encoded['product_type'])"
   ]
  },
  {
   "cell_type": "code",
   "execution_count": null,
   "metadata": {
    "id": "oxBqDSOAN-LG"
   },
   "outputs": [],
   "source": [
    "prod_info_encoded = prod_info_encoded.sort_values(by=['date','store_nbr', 'product_type']).reset_index(drop=True)"
   ]
  },
  {
   "cell_type": "markdown",
   "metadata": {
    "id": "l-JHdGJ0K9Qx"
   },
   "source": [
    "6. Splitting Dataset"
   ]
  },
  {
   "cell_type": "code",
   "execution_count": null,
   "metadata": {
    "id": "LNHkZuhVLAVb"
   },
   "outputs": [],
   "source": [
    "cutoff_date1 = pd.to_datetime('2017-07-31')\n",
    "cutoff_date2 = pd.to_datetime('2017-01-01')\n",
    "test_df = prod_info_encoded[prod_info_encoded['date'] >= cutoff_date1]\n",
    "train_df = prod_info_encoded[(prod_info_encoded['date'] >= cutoff_date2) & (prod_info_encoded['date'] < cutoff_date1)]"
   ]
  },
  {
   "cell_type": "markdown",
   "metadata": {
    "id": "USnvlgVQ06IR"
   },
   "source": [
    "7. Export to CSV"
   ]
  }
 ],
 "metadata": {
  "colab": {
   "provenance": []
  },
  "kernelspec": {
   "display_name": "Python 3 (ipykernel)",
   "language": "python",
   "name": "python3"
  },
  "language_info": {
   "codemirror_mode": {
    "name": "ipython",
    "version": 3
   },
   "file_extension": ".py",
   "mimetype": "text/x-python",
   "name": "python",
   "nbconvert_exporter": "python",
   "pygments_lexer": "ipython3",
   "version": "3.11.4"
  }
 },
 "nbformat": 4,
 "nbformat_minor": 1
}
